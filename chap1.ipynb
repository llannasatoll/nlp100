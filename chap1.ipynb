{
 "cells": [
  {
   "cell_type": "markdown",
   "id": "9748b8f4",
   "metadata": {},
   "source": [
    "# 第1章：準備体操"
   ]
  },
  {
   "cell_type": "markdown",
   "id": "0ed58afd",
   "metadata": {},
   "source": [
    "## 00. 文字列の逆順\n",
    "\n",
    "文字列”stressed”の文字を逆に（末尾から先頭に向かって）並べた文字列を得よ．"
   ]
  },
  {
   "cell_type": "code",
   "execution_count": 1,
   "id": "e9b722ce",
   "metadata": {},
   "outputs": [
    {
     "name": "stdout",
     "output_type": "stream",
     "text": [
      "desserts\n"
     ]
    }
   ],
   "source": [
    "a = \"stressed\"\n",
    "print(a[::-1])"
   ]
  },
  {
   "cell_type": "markdown",
   "id": "8b5959f7",
   "metadata": {},
   "source": [
    "## 01. 「パタトクカシーー」\n",
    "\n",
    "「パタトクカシーー」という文字列の1,3,5,7文字目を取り出して連結した文字列を得よ．"
   ]
  },
  {
   "cell_type": "code",
   "execution_count": 2,
   "id": "1f1dcc62",
   "metadata": {},
   "outputs": [
    {
     "name": "stdout",
     "output_type": "stream",
     "text": [
      "パトカー\n"
     ]
    }
   ],
   "source": [
    "a = \"パタトクカシー\"\n",
    "print(a[::2])"
   ]
  },
  {
   "cell_type": "markdown",
   "id": "67ff5a14",
   "metadata": {},
   "source": [
    "## 02. 「パトカー」＋「タクシー」＝「パタトクカシーー」\n",
    "\n",
    "「パトカー」＋「タクシー」の文字を先頭から交互に連結して文字列「パタトクカシーー」を得よ．\n"
   ]
  },
  {
   "cell_type": "code",
   "execution_count": 3,
   "id": "26ed6aca",
   "metadata": {},
   "outputs": [
    {
     "name": "stdout",
     "output_type": "stream",
     "text": [
      "パタトクカシーー\n"
     ]
    }
   ],
   "source": [
    "a = \"パトカー\"\n",
    "b = \"タクシー\"\n",
    "\n",
    "c = \"\".join([i + j for i, j in zip(a, b)])\n",
    "print(c)"
   ]
  },
  {
   "cell_type": "markdown",
   "id": "21cf4ad9",
   "metadata": {},
   "source": [
    "## 03. 円周率\n",
    "\n",
    "“Now I need a drink, alcoholic of course, after the heavy lectures involving quantum mechanics.”\n",
    "という文を単語に分解し，各単語の（アルファベットの）文字数を先頭から出現順に並べたリストを作成せよ．"
   ]
  },
  {
   "cell_type": "code",
   "execution_count": 4,
   "id": "9ecaa8cd",
   "metadata": {},
   "outputs": [
    {
     "name": "stdout",
     "output_type": "stream",
     "text": [
      "[3, 1, 4, 1, 6, 9, 2, 7, 5, 3, 5, 8, 9, 7, 10]\n"
     ]
    }
   ],
   "source": [
    "a = \"Now I need a drink, alcoholic of course, after the heavy lectures involving quantum mechanics.\"\n",
    "b = a.split()\n",
    "\n",
    "print([len(i) for i in b])"
   ]
  },
  {
   "cell_type": "markdown",
   "id": "bf2e6049",
   "metadata": {},
   "source": [
    "## 04. 元素記号\n",
    "\n",
    "“Hi He Lied Because Boron Could Not Oxidize Fluorine. New Nations Might Also Sign Peace Security Clause. Arthur King Can.”\n",
    "という文を単語に分解し，1, 5, 6, 7, 8, 9, 15, 16, 19番目の単語は先頭の1文字，それ以外の単語は先頭の2文字を取り出し，取り出した文字列から単語の位置（先頭から何番目の単語か）への連想配列（辞書型もしくはマップ型）を作成せよ．"
   ]
  },
  {
   "cell_type": "code",
   "execution_count": 5,
   "id": "99eb8bd6",
   "metadata": {},
   "outputs": [
    {
     "name": "stdout",
     "output_type": "stream",
     "text": [
      "{'H': 1, 'He': 2, 'Li': 3, 'Be': 4, 'B': 5, 'C': 6, 'N': 7, 'O': 8, 'F': 9, 'Ne': 10, 'Na': 11, 'Mi': 12, 'Al': 13, 'Si': 14, 'P': 15, 'S': 16, 'Cl': 17, 'Ar': 18, 'K': 19, 'Ca': 20}\n"
     ]
    }
   ],
   "source": [
    "a = \"Hi He Lied Because Boron Could Not Oxidize Fluorine. New Nations Might Also Sign Peace Security Clause. Arthur King Can.\"\n",
    "b = a.split()\n",
    "\n",
    "c = [1, 5, 6, 7, 8, 9, 15, 16, 19]\n",
    "\n",
    "x = [b[i][:1] if i+1 in c else b[i][:2] for i in range(len(b))]\n",
    "y = list(range(1, len(b)+1))\n",
    "\n",
    "print(dict(zip(x, y)))"
   ]
  },
  {
   "cell_type": "markdown",
   "id": "1d125ca1",
   "metadata": {},
   "source": [
    "## 05. n-gram\n",
    "\n",
    "与えられたシーケンス（文字列やリストなど）からn-gramを作る関数を作成せよ．\n",
    "この関数を用い，”I am an NLPer”という文から単語bi-gram，文字bi-gramを得よ．"
   ]
  },
  {
   "cell_type": "code",
   "execution_count": 6,
   "id": "aeeda73d",
   "metadata": {},
   "outputs": [
    {
     "name": "stdout",
     "output_type": "stream",
     "text": [
      "単語bi-gram : ['I ', ' a', 'am', 'm ', ' a', 'an', 'n ', ' N', 'NL', 'LP', 'Pe', 'er']\n",
      "文字bi-gram : [['I', 'am'], ['am', 'an'], ['an', 'NLPer']]\n"
     ]
    }
   ],
   "source": [
    "def n_gram(lst, n):\n",
    "    a = [lst[i:i+n] for i in range(len(lst)-n+1)]\n",
    "    return a\n",
    "\n",
    "str = \"I am an NLPer\"\n",
    "print(\"単語bi-gram :\", n_gram(str, 2))\n",
    "print(\"文字bi-gram :\", n_gram(str.split(), 2))"
   ]
  },
  {
   "cell_type": "markdown",
   "id": "ab7537ce",
   "metadata": {},
   "source": [
    "## 06. 集合\n",
    "\n",
    "“paraparaparadise”と”paragraph”に含まれる文字bi-gramの集合を，それぞれ, XとYとして求め，\n",
    "XとYの和集合，積集合，差集合を求めよ．"
   ]
  },
  {
   "cell_type": "code",
   "execution_count": 7,
   "id": "36743b40",
   "metadata": {},
   "outputs": [
    {
     "name": "stdout",
     "output_type": "stream",
     "text": [
      "和集合: {'ag', 'ph', 'gr', 'is', 'se', 'ra', 'ad', 'di', 'pa', 'ap', 'ar'}\n",
      "積集合: {'ap', 'pa', 'ar', 'ra'}\n",
      "差集合: {'ad', 'di', 'ag', 'gr', 'ph', 'is', 'se'}\n"
     ]
    }
   ],
   "source": [
    "a = \"paraparaparadise\"\n",
    "b = \"paragraph\"\n",
    "\n",
    "x = set(n_gram(a, 2))\n",
    "y = set(n_gram(b, 2))\n",
    "\n",
    "print(\"和集合:\", x | y)\n",
    "print(\"積集合:\", x & y)\n",
    "print(\"差集合:\", (x - y) | (y - x))"
   ]
  },
  {
   "cell_type": "markdown",
   "id": "50584697",
   "metadata": {},
   "source": [
    "さらに，’se’というbi-gramがXおよびYに含まれるかどうかを調べよ．\""
   ]
  },
  {
   "cell_type": "code",
   "execution_count": 8,
   "id": "eb10ee17",
   "metadata": {},
   "outputs": [
    {
     "name": "stdout",
     "output_type": "stream",
     "text": [
      "x : True\n",
      "y : False\n"
     ]
    }
   ],
   "source": [
    "print(\"x :\",\"se\" in x)\n",
    "print(\"y :\",\"se\" in y)"
   ]
  },
  {
   "cell_type": "markdown",
   "id": "c1fd24c3",
   "metadata": {},
   "source": [
    "## 07. テンプレートによる文生成\n",
    "\n",
    "引数x, y, zを受け取り「x時のyはz」という文字列を返す関数を実装せよ．さらに，x=12, y=”気温”, z=22.4として，実行結果を確認せよ．"
   ]
  },
  {
   "cell_type": "code",
   "execution_count": 9,
   "id": "0f8a9571",
   "metadata": {},
   "outputs": [
    {
     "name": "stdout",
     "output_type": "stream",
     "text": [
      "12時の気温は22.4\n"
     ]
    }
   ],
   "source": [
    "def info(x, y, z):\n",
    "    return f\"{x}時の{y}は{z}\"\n",
    "    \n",
    "print(info(12, \"気温\", 22.4))"
   ]
  },
  {
   "cell_type": "markdown",
   "id": "84192602",
   "metadata": {},
   "source": [
    "## 08. 暗号文\n",
    "\n",
    "与えられた文字列の各文字を，以下の仕様で変換する関数cipherを実装せよ．\n",
    "\n",
    "* 英小文字ならば(219 - 文字コード)の文字に置換\n",
    "* その他の文字はそのまま出力\n",
    "\n",
    "この関数を用い，英語のメッセージを暗号化・復号化せよ．"
   ]
  },
  {
   "cell_type": "code",
   "execution_count": 10,
   "id": "6910cf53",
   "metadata": {},
   "outputs": [
    {
     "name": "stdout",
     "output_type": "stream",
     "text": [
      "I zn zm NLPvi\n"
     ]
    }
   ],
   "source": [
    "def cipher(str):\n",
    "    a = [chr(219-ord(i)) if i.islower() else i for i in str]\n",
    "    print(\"\".join(a))\n",
    "    \n",
    "cipher(\"I am an NLPer\")"
   ]
  },
  {
   "cell_type": "markdown",
   "id": "9865adfd",
   "metadata": {},
   "source": [
    "## 09. Typoglycemia\n",
    "\n",
    "スペースで区切られた単語列に対して，各単語の先頭と末尾の文字は残し，それ以外の文字の順序をランダムに並び替えるプログラムを作成せよ．ただし，長さが４以下の単語は並び替えないこととする．適当な英語の文（例えば”I couldn’t believe that I could actually understand what I was reading : the phenomenal power of the human mind .”）を与え，その実行結果を確認せよ．"
   ]
  },
  {
   "cell_type": "code",
   "execution_count": 11,
   "id": "d1048a72",
   "metadata": {},
   "outputs": [
    {
     "name": "stdout",
     "output_type": "stream",
     "text": [
      "I cl’onudt belviee that I culod alcatluy unerdatnsd what I was rneadig : the panhenmoel poewr of the hmuan mind .\n"
     ]
    }
   ],
   "source": [
    "import random\n",
    "\n",
    "a = \"I couldn’t believe that I could actually understand what I was reading : the phenomenal power of the human mind .\"\n",
    "b = a.split()\n",
    "ans = []\n",
    "\n",
    "for i in b:\n",
    "    if len(i) > 4:\n",
    "        c = i[0] + \"\".join(random.sample(i[1:-1], len(i)-2)) + i[-1]\n",
    "        ans.append(c)\n",
    "    else:\n",
    "        ans.append(i)\n",
    "        \n",
    "print(\" \".join(ans))"
   ]
  }
 ],
 "metadata": {
  "kernelspec": {
   "display_name": "Python 3 (ipykernel)",
   "language": "python",
   "name": "python3"
  },
  "language_info": {
   "codemirror_mode": {
    "name": "ipython",
    "version": 3
   },
   "file_extension": ".py",
   "mimetype": "text/x-python",
   "name": "python",
   "nbconvert_exporter": "python",
   "pygments_lexer": "ipython3",
   "version": "3.9.12"
  }
 },
 "nbformat": 4,
 "nbformat_minor": 5
}

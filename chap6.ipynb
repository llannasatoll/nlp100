{
 "cells": [
  {
   "cell_type": "markdown",
   "id": "c4968ddf",
   "metadata": {},
   "source": [
    "# 第6章: 機械学習"
   ]
  },
  {
   "cell_type": "markdown",
   "id": "c93e60a6",
   "metadata": {},
   "source": [
    "## 50. データの入手・整形"
   ]
  },
  {
   "cell_type": "markdown",
   "id": "8e0cd719",
   "metadata": {},
   "source": [
    "[News Aggregator Data Set](https://archive.ics.uci.edu/ml/datasets/News+Aggregator)をダウンロードし、以下の要領で学習データ（train.txt），検証データ（valid.txt），評価データ（test.txt）を作成せよ．\n",
    "\n",
    "1. ダウンロードしたzipファイルを解凍し，readme.txtの説明を読む．\n",
    "2. 情報源（publisher）が”Reuters”, “Huffington Post”, “Businessweek”, “Contactmusic.com”, “Daily Mail”の事例（記事）のみを抽出する．\n",
    "3. 抽出された事例をランダムに並び替える．\n",
    "4. 抽出された事例の80%を学習データ，残りの10%ずつを検証データと評価データに分割し，それぞれtrain.txt，valid.txt，test.txtというファイル名で保存する．ファイルには，１行に１事例を書き出すこととし，カテゴリ名と記事見出しのタブ区切り形式とせよ（このファイルは後に問題70で再利用する）．"
   ]
  },
  {
   "cell_type": "code",
   "execution_count": 1,
   "id": "1d2d02df",
   "metadata": {},
   "outputs": [],
   "source": [
    "import csv\n",
    "import numpy as np\n",
    "import pandas as pd\n",
    "from sklearn.model_selection import train_test_split"
   ]
  },
  {
   "cell_type": "code",
   "execution_count": 2,
   "id": "3328137a",
   "metadata": {},
   "outputs": [],
   "source": [
    "data = pd.read_csv(\"NewsAggregatorDataset/newsCorpora.csv\", header=None, sep=\"\\t\", names=[\"ID\", \"TITLE\", \"URL\", \"PUBLISHER\", \"CATEGORY\", \"STORY\", \"HOSTNAME\", \"TIMESTAMP\"], quoting=csv.QUOTE_NONE)\n",
    "\n",
    "a = [\"Reuters\", \"Huffington Post\", \"Businessweek\", \"Contactmusic.com\", \"Daily Mail\"]\n",
    "b = data[data[\"PUBLISHER\"].isin(a)]\n",
    "c = b.loc[:, [\"CATEGORY\", \"TITLE\"]]\n",
    "\n",
    "train, valid_test = train_test_split(c, train_size=0.8, shuffle=True)\n",
    "valid, test = train_test_split(valid_test, train_size=0.5)\n",
    "\n",
    "train.to_csv(\"NewsAggregatorDataset/train.txt\", sep=\"\\t\", index=False)\n",
    "valid.to_csv(\"NewsAggregatorDataset/valid.txt\", sep=\"\\t\", index=False)\n",
    "test.to_csv(\"NewsAggregatorDataset/test.txt\", sep=\"\\t\", index=False)"
   ]
  },
  {
   "cell_type": "markdown",
   "id": "e39bb549",
   "metadata": {},
   "source": [
    "学習データと評価データを作成したら，各カテゴリの事例数を確認せよ"
   ]
  },
  {
   "cell_type": "code",
   "execution_count": 3,
   "id": "a73bd7e1",
   "metadata": {},
   "outputs": [
    {
     "name": "stdout",
     "output_type": "stream",
     "text": [
      "[train]\n",
      " b    4505\n",
      "e    4218\n",
      "t    1238\n",
      "m     723\n",
      "Name: CATEGORY, dtype: int64\n",
      "[test]\n",
      " e    575\n",
      "b    537\n",
      "t    139\n",
      "m     85\n",
      "Name: CATEGORY, dtype: int64\n"
     ]
    }
   ],
   "source": [
    "print(\"[train]\\n\", train[\"CATEGORY\"].value_counts())\n",
    "print(\"[test]\\n\", test[\"CATEGORY\"].value_counts())"
   ]
  },
  {
   "cell_type": "markdown",
   "id": "3646782b",
   "metadata": {},
   "source": [
    "## 51. 特徴量抽出"
   ]
  },
  {
   "cell_type": "markdown",
   "id": "1446275c",
   "metadata": {},
   "source": [
    "学習データ，検証データ，評価データから特徴量を抽出し，それぞれtrain.feature.txt，valid.feature.txt，test.feature.txtというファイル名で保存せよ． なお，カテゴリ分類に有用そうな特徴量は各自で自由に設計せよ．記事の見出しを単語列に変換したものが最低限のベースラインとなるであろう．"
   ]
  },
  {
   "cell_type": "code",
   "execution_count": 4,
   "id": "0ad3ce7e",
   "metadata": {},
   "outputs": [],
   "source": [
    "from sklearn.feature_extraction.text import CountVectorizer"
   ]
  },
  {
   "cell_type": "code",
   "execution_count": 5,
   "id": "a187e1c0",
   "metadata": {},
   "outputs": [],
   "source": [
    "#単語の出現頻度を特徴量とする。\n",
    "\n",
    "txt_vec = CountVectorizer()\n",
    "\n",
    "#訓練データのみで計算したものをvalid, testに適応。単語は全て小文字に変換。\n",
    "train_feature = txt_vec.fit_transform(train[\"TITLE\"].str.lower())\n",
    "valid_feature = txt_vec.transform(valid[\"TITLE\"].str.lower())\n",
    "test_feature = txt_vec.transform(test[\"TITLE\"].str.lower())\n",
    "\n",
    "with open(\"NewsAggregatorDataset/train.feature.txt\", \"w\") as f:\n",
    "    for d in train_feature.toarray():\n",
    "        f.write(\"%s\\n\" % d)\n",
    "with open(\"NewsAggregatorDataset/valid.feature.txt\", \"w\") as f:\n",
    "    for d in valid_feature.toarray()[0]:\n",
    "        f.write(\"%s\\n\" % d)\n",
    "with open(\"NewsAggregatorDataset/test.feature.txt\", \"w\") as f:\n",
    "    for d in test_feature.toarray()[0]:\n",
    "        f.write(\"%s\\n\" % d)"
   ]
  },
  {
   "cell_type": "markdown",
   "id": "11caba6f",
   "metadata": {},
   "source": [
    "## 52.学習\n",
    "\n",
    "51で構築した学習データを用いて，ロジスティック回帰モデルを学習せよ．"
   ]
  },
  {
   "cell_type": "code",
   "execution_count": 6,
   "id": "2dabe58f",
   "metadata": {},
   "outputs": [],
   "source": [
    "from sklearn.linear_model import LogisticRegression\n",
    "from sklearn.metrics import confusion_matrix"
   ]
  },
  {
   "cell_type": "code",
   "execution_count": 7,
   "id": "bc8892bf",
   "metadata": {},
   "outputs": [
    {
     "data": {
      "text/plain": [
       "LogisticRegression(max_iter=200, random_state=42)"
      ]
     },
     "execution_count": 7,
     "metadata": {},
     "output_type": "execute_result"
    }
   ],
   "source": [
    "#デフォルトの最大反復回数100だと収束しなかったため200に指定しました。-> 100と精度は変わらない…？\n",
    "lr = LogisticRegression(random_state=42, max_iter=200) \n",
    "lr.fit(train_feature, train[\"CATEGORY\"])"
   ]
  },
  {
   "cell_type": "markdown",
   "id": "c0cd0df1",
   "metadata": {},
   "source": [
    "## 53. 予測\n",
    "\n",
    "52で学習したロジスティック回帰モデルを用い，与えられた記事見出しからカテゴリとその予測確率を計算するプログラムを実装せよ．"
   ]
  },
  {
   "cell_type": "code",
   "execution_count": 8,
   "id": "7cecb58f",
   "metadata": {},
   "outputs": [],
   "source": [
    "def predictor(model, test_data):\n",
    "    #return カテゴリ予測, 予測確率\n",
    "    return model.predict(test_data), np.max(model.predict_proba(test_data), axis=1)"
   ]
  },
  {
   "cell_type": "markdown",
   "id": "8552982f",
   "metadata": {},
   "source": [
    "## 54. 正解率の計測\n",
    "\n",
    "52で学習したロジスティック回帰モデルの正解率を，学習データおよび評価データ上で計測せよ"
   ]
  },
  {
   "cell_type": "code",
   "execution_count": 9,
   "id": "fbfa8d0d",
   "metadata": {},
   "outputs": [
    {
     "name": "stdout",
     "output_type": "stream",
     "text": [
      "Accuracy(train_data) :  0.9965368775739424\n",
      "Accuracy(test_data) :  0.9161676646706587\n"
     ]
    }
   ],
   "source": [
    "train_pred, train_probs = predictor(lr, train_feature)\n",
    "test_pred, test_probs = predictor(lr, test_feature)\n",
    "\n",
    "def calc_accu(original, predict):\n",
    "    cm = confusion_matrix(original, predict)\n",
    "    accuracy = sum([cm[i][i] for i in range(len(cm))]) / sum(map(sum, cm))\n",
    "    return accuracy\n",
    "\n",
    "print(\"Accuracy(train_data) : \", calc_accu(train[\"CATEGORY\"], train_pred))\n",
    "print(\"Accuracy(test_data) : \", calc_accu(test[\"CATEGORY\"], test_pred))"
   ]
  },
  {
   "cell_type": "markdown",
   "id": "df452511",
   "metadata": {},
   "source": [
    "## 55. 混同行列の作成\n",
    "\n",
    "52で学習したロジスティック回帰モデルの混同行列（confusion matrix）を，学習データおよび評価データ上で作成せよ．"
   ]
  },
  {
   "cell_type": "markdown",
   "id": "bd6429fd",
   "metadata": {},
   "source": [
    "学習データ(train)"
   ]
  },
  {
   "cell_type": "code",
   "execution_count": 10,
   "id": "0b4b67dc",
   "metadata": {},
   "outputs": [
    {
     "data": {
      "text/html": [
       "<div>\n",
       "<style scoped>\n",
       "    .dataframe tbody tr th:only-of-type {\n",
       "        vertical-align: middle;\n",
       "    }\n",
       "\n",
       "    .dataframe tbody tr th {\n",
       "        vertical-align: top;\n",
       "    }\n",
       "\n",
       "    .dataframe thead th {\n",
       "        text-align: right;\n",
       "    }\n",
       "</style>\n",
       "<table border=\"1\" class=\"dataframe\">\n",
       "  <thead>\n",
       "    <tr style=\"text-align: right;\">\n",
       "      <th></th>\n",
       "      <th>Pred b</th>\n",
       "      <th>Pred e</th>\n",
       "      <th>Pred t</th>\n",
       "      <th>Pred m</th>\n",
       "    </tr>\n",
       "  </thead>\n",
       "  <tbody>\n",
       "    <tr>\n",
       "      <th>b</th>\n",
       "      <td>4495</td>\n",
       "      <td>3</td>\n",
       "      <td>0</td>\n",
       "      <td>7</td>\n",
       "    </tr>\n",
       "    <tr>\n",
       "      <th>e</th>\n",
       "      <td>7</td>\n",
       "      <td>4210</td>\n",
       "      <td>0</td>\n",
       "      <td>1</td>\n",
       "    </tr>\n",
       "    <tr>\n",
       "      <th>t</th>\n",
       "      <td>3</td>\n",
       "      <td>3</td>\n",
       "      <td>717</td>\n",
       "      <td>0</td>\n",
       "    </tr>\n",
       "    <tr>\n",
       "      <th>m</th>\n",
       "      <td>10</td>\n",
       "      <td>3</td>\n",
       "      <td>0</td>\n",
       "      <td>1225</td>\n",
       "    </tr>\n",
       "  </tbody>\n",
       "</table>\n",
       "</div>"
      ],
      "text/plain": [
       "   Pred b  Pred e  Pred t  Pred m\n",
       "b    4495       3       0       7\n",
       "e       7    4210       0       1\n",
       "t       3       3     717       0\n",
       "m      10       3       0    1225"
      ]
     },
     "execution_count": 10,
     "metadata": {},
     "output_type": "execute_result"
    }
   ],
   "source": [
    "category = [\"b\", \"e\", \"t\", \"m\"]\n",
    "kind = [\"train\", \"test\", \"valid\"]\n",
    "\n",
    "category_pre = [\"Pred b\", \"Pred e\", \"Pred t\", \"Pred m\"]\n",
    "cm_train = confusion_matrix(train[\"CATEGORY\"], train_pred)\n",
    "pd.DataFrame(cm_train, columns=category_pre, index=category)"
   ]
  },
  {
   "cell_type": "markdown",
   "id": "8e035fdc",
   "metadata": {},
   "source": [
    "評価データ(test)"
   ]
  },
  {
   "cell_type": "code",
   "execution_count": 11,
   "id": "2f7b6726",
   "metadata": {},
   "outputs": [
    {
     "data": {
      "text/html": [
       "<div>\n",
       "<style scoped>\n",
       "    .dataframe tbody tr th:only-of-type {\n",
       "        vertical-align: middle;\n",
       "    }\n",
       "\n",
       "    .dataframe tbody tr th {\n",
       "        vertical-align: top;\n",
       "    }\n",
       "\n",
       "    .dataframe thead th {\n",
       "        text-align: right;\n",
       "    }\n",
       "</style>\n",
       "<table border=\"1\" class=\"dataframe\">\n",
       "  <thead>\n",
       "    <tr style=\"text-align: right;\">\n",
       "      <th></th>\n",
       "      <th>Pred b</th>\n",
       "      <th>Pred e</th>\n",
       "      <th>Pred t</th>\n",
       "      <th>Pred m</th>\n",
       "    </tr>\n",
       "  </thead>\n",
       "  <tbody>\n",
       "    <tr>\n",
       "      <th>b</th>\n",
       "      <td>513</td>\n",
       "      <td>10</td>\n",
       "      <td>5</td>\n",
       "      <td>9</td>\n",
       "    </tr>\n",
       "    <tr>\n",
       "      <th>e</th>\n",
       "      <td>12</td>\n",
       "      <td>555</td>\n",
       "      <td>3</td>\n",
       "      <td>5</td>\n",
       "    </tr>\n",
       "    <tr>\n",
       "      <th>t</th>\n",
       "      <td>9</td>\n",
       "      <td>16</td>\n",
       "      <td>55</td>\n",
       "      <td>5</td>\n",
       "    </tr>\n",
       "    <tr>\n",
       "      <th>m</th>\n",
       "      <td>21</td>\n",
       "      <td>14</td>\n",
       "      <td>3</td>\n",
       "      <td>101</td>\n",
       "    </tr>\n",
       "  </tbody>\n",
       "</table>\n",
       "</div>"
      ],
      "text/plain": [
       "   Pred b  Pred e  Pred t  Pred m\n",
       "b     513      10       5       9\n",
       "e      12     555       3       5\n",
       "t       9      16      55       5\n",
       "m      21      14       3     101"
      ]
     },
     "execution_count": 11,
     "metadata": {},
     "output_type": "execute_result"
    }
   ],
   "source": [
    "cm_test = confusion_matrix(test[\"CATEGORY\"], test_pred)\n",
    "pd.DataFrame(cm_test, columns=category_pre, index=category)"
   ]
  },
  {
   "cell_type": "markdown",
   "id": "d8c166ac",
   "metadata": {},
   "source": [
    "## 56. 適合率，再現率，F1スコアの計測\n",
    "\n",
    "52で学習したロジスティック回帰モデルの適合率，再現率，F1スコアを，評価データ上で計測せよ．カテゴリごとに適合率，再現率，F1スコアを求め，カテゴリごとの性能をマイクロ平均（micro-average）とマクロ平均（macro-average）で統合せよ．"
   ]
  },
  {
   "cell_type": "code",
   "execution_count": 12,
   "id": "f24588f7",
   "metadata": {},
   "outputs": [],
   "source": [
    "from sklearn.metrics import precision_score, recall_score, f1_score"
   ]
  },
  {
   "cell_type": "code",
   "execution_count": 13,
   "id": "224dffc2",
   "metadata": {},
   "outputs": [
    {
     "data": {
      "text/html": [
       "<div>\n",
       "<style scoped>\n",
       "    .dataframe tbody tr th:only-of-type {\n",
       "        vertical-align: middle;\n",
       "    }\n",
       "\n",
       "    .dataframe tbody tr th {\n",
       "        vertical-align: top;\n",
       "    }\n",
       "\n",
       "    .dataframe thead th {\n",
       "        text-align: right;\n",
       "    }\n",
       "</style>\n",
       "<table border=\"1\" class=\"dataframe\">\n",
       "  <thead>\n",
       "    <tr style=\"text-align: right;\">\n",
       "      <th></th>\n",
       "      <th>precision</th>\n",
       "      <th>recall</th>\n",
       "      <th>f1</th>\n",
       "    </tr>\n",
       "  </thead>\n",
       "  <tbody>\n",
       "    <tr>\n",
       "      <th>b</th>\n",
       "      <td>0.924324</td>\n",
       "      <td>0.955307</td>\n",
       "      <td>0.939560</td>\n",
       "    </tr>\n",
       "    <tr>\n",
       "      <th>e</th>\n",
       "      <td>0.932773</td>\n",
       "      <td>0.965217</td>\n",
       "      <td>0.948718</td>\n",
       "    </tr>\n",
       "    <tr>\n",
       "      <th>t</th>\n",
       "      <td>0.833333</td>\n",
       "      <td>0.647059</td>\n",
       "      <td>0.728477</td>\n",
       "    </tr>\n",
       "    <tr>\n",
       "      <th>m</th>\n",
       "      <td>0.841667</td>\n",
       "      <td>0.726619</td>\n",
       "      <td>0.779923</td>\n",
       "    </tr>\n",
       "    <tr>\n",
       "      <th>micro</th>\n",
       "      <td>0.916168</td>\n",
       "      <td>0.916168</td>\n",
       "      <td>0.916168</td>\n",
       "    </tr>\n",
       "    <tr>\n",
       "      <th>macro</th>\n",
       "      <td>0.883024</td>\n",
       "      <td>0.823551</td>\n",
       "      <td>0.849169</td>\n",
       "    </tr>\n",
       "  </tbody>\n",
       "</table>\n",
       "</div>"
      ],
      "text/plain": [
       "       precision    recall        f1\n",
       "b       0.924324  0.955307  0.939560\n",
       "e       0.932773  0.965217  0.948718\n",
       "t       0.833333  0.647059  0.728477\n",
       "m       0.841667  0.726619  0.779923\n",
       "micro   0.916168  0.916168  0.916168\n",
       "macro   0.883024  0.823551  0.849169"
      ]
     },
     "execution_count": 13,
     "metadata": {},
     "output_type": "execute_result"
    }
   ],
   "source": [
    "precision = precision_score(test[\"CATEGORY\"], test_pred, average=None)\n",
    "recall = recall_score(test[\"CATEGORY\"], test_pred, average=None)\n",
    "f1 = f1_score(test[\"CATEGORY\"], test_pred, average=None)\n",
    "\n",
    "precision = np.append(precision, precision_score(test[\"CATEGORY\"], test_pred, average=\"micro\"))\n",
    "recall = np.append(recall, recall_score(test[\"CATEGORY\"], test_pred, average=\"micro\"))\n",
    "f1 = np.append(f1, f1_score(test[\"CATEGORY\"], test_pred, average=\"micro\"))\n",
    "\n",
    "precision = np.append(precision, precision_score(test[\"CATEGORY\"], test_pred, average=\"macro\"))\n",
    "recall = np.append(recall, recall_score(test[\"CATEGORY\"], test_pred, average=\"macro\"))\n",
    "f1 = np.append(f1, f1_score(test[\"CATEGORY\"], test_pred, average=\"macro\"))\n",
    "\n",
    "pd.DataFrame(list(zip(precision, recall, f1)), index=category+[\"micro\", \"macro\"], columns=[\"precision\", \"recall\", \"f1\"])"
   ]
  },
  {
   "cell_type": "markdown",
   "id": "bc8beabc",
   "metadata": {},
   "source": [
    "## 57. 特徴量の重みの確認\n",
    "\n",
    "52で学習したロジスティック回帰モデルの中で，重みの高い特徴量トップ10と，重みの低い特徴量トップ10を確認せよ．"
   ]
  },
  {
   "cell_type": "markdown",
   "id": "bd2e3f22",
   "metadata": {},
   "source": [
    "BEST"
   ]
  },
  {
   "cell_type": "code",
   "execution_count": 14,
   "id": "da9faebe",
   "metadata": {},
   "outputs": [
    {
     "data": {
      "text/html": [
       "<div>\n",
       "<style scoped>\n",
       "    .dataframe tbody tr th:only-of-type {\n",
       "        vertical-align: middle;\n",
       "    }\n",
       "\n",
       "    .dataframe tbody tr th {\n",
       "        vertical-align: top;\n",
       "    }\n",
       "\n",
       "    .dataframe thead th {\n",
       "        text-align: right;\n",
       "    }\n",
       "</style>\n",
       "<table border=\"1\" class=\"dataframe\">\n",
       "  <thead>\n",
       "    <tr style=\"text-align: right;\">\n",
       "      <th></th>\n",
       "      <th>1位</th>\n",
       "      <th>2位</th>\n",
       "      <th>3位</th>\n",
       "      <th>4位</th>\n",
       "      <th>5位</th>\n",
       "      <th>6位</th>\n",
       "      <th>7位</th>\n",
       "      <th>8位</th>\n",
       "      <th>9位</th>\n",
       "      <th>10位</th>\n",
       "    </tr>\n",
       "  </thead>\n",
       "  <tbody>\n",
       "    <tr>\n",
       "      <th>b</th>\n",
       "      <td>bank</td>\n",
       "      <td>fed</td>\n",
       "      <td>ecb</td>\n",
       "      <td>ukraine</td>\n",
       "      <td>obamacare</td>\n",
       "      <td>china</td>\n",
       "      <td>argentina</td>\n",
       "      <td>euro</td>\n",
       "      <td>yellen</td>\n",
       "      <td>buy</td>\n",
       "    </tr>\n",
       "    <tr>\n",
       "      <th>e</th>\n",
       "      <td>kardashian</td>\n",
       "      <td>chris</td>\n",
       "      <td>paul</td>\n",
       "      <td>miley</td>\n",
       "      <td>movie</td>\n",
       "      <td>cyrus</td>\n",
       "      <td>transformers</td>\n",
       "      <td>thrones</td>\n",
       "      <td>wedding</td>\n",
       "      <td>hbo</td>\n",
       "    </tr>\n",
       "    <tr>\n",
       "      <th>t</th>\n",
       "      <td>ebola</td>\n",
       "      <td>fda</td>\n",
       "      <td>cancer</td>\n",
       "      <td>study</td>\n",
       "      <td>mers</td>\n",
       "      <td>drug</td>\n",
       "      <td>cdc</td>\n",
       "      <td>cases</td>\n",
       "      <td>medical</td>\n",
       "      <td>cigarettes</td>\n",
       "    </tr>\n",
       "    <tr>\n",
       "      <th>m</th>\n",
       "      <td>google</td>\n",
       "      <td>facebook</td>\n",
       "      <td>climate</td>\n",
       "      <td>apple</td>\n",
       "      <td>microsoft</td>\n",
       "      <td>heartbleed</td>\n",
       "      <td>activision</td>\n",
       "      <td>tesla</td>\n",
       "      <td>nasa</td>\n",
       "      <td>fcc</td>\n",
       "    </tr>\n",
       "  </tbody>\n",
       "</table>\n",
       "</div>"
      ],
      "text/plain": [
       "           1位        2位       3位       4位         5位          6位  \\\n",
       "b        bank       fed      ecb  ukraine  obamacare       china   \n",
       "e  kardashian     chris     paul    miley      movie       cyrus   \n",
       "t       ebola       fda   cancer    study       mers        drug   \n",
       "m      google  facebook  climate    apple  microsoft  heartbleed   \n",
       "\n",
       "             7位       8位       9位         10位  \n",
       "b     argentina     euro   yellen         buy  \n",
       "e  transformers  thrones  wedding         hbo  \n",
       "t           cdc    cases  medical  cigarettes  \n",
       "m    activision    tesla     nasa         fcc  "
      ]
     },
     "execution_count": 14,
     "metadata": {},
     "output_type": "execute_result"
    }
   ],
   "source": [
    "ranking = [str(i)+\"位\" for i in range(1,11)]\n",
    "best = []\n",
    "\n",
    "for i in range(len(category)):\n",
    "    lst = sorted(list(zip(lr.coef_[i], txt_vec.get_feature_names_out())))\n",
    "    best.append([lst[:10:-1][j][1] for j in range(10)])\n",
    "pd.DataFrame(best, index=category, columns=ranking)"
   ]
  },
  {
   "cell_type": "markdown",
   "id": "645d8ecd",
   "metadata": {},
   "source": [
    "WORST"
   ]
  },
  {
   "cell_type": "code",
   "execution_count": 15,
   "id": "db82c771",
   "metadata": {},
   "outputs": [
    {
     "data": {
      "text/html": [
       "<div>\n",
       "<style scoped>\n",
       "    .dataframe tbody tr th:only-of-type {\n",
       "        vertical-align: middle;\n",
       "    }\n",
       "\n",
       "    .dataframe tbody tr th {\n",
       "        vertical-align: top;\n",
       "    }\n",
       "\n",
       "    .dataframe thead th {\n",
       "        text-align: right;\n",
       "    }\n",
       "</style>\n",
       "<table border=\"1\" class=\"dataframe\">\n",
       "  <thead>\n",
       "    <tr style=\"text-align: right;\">\n",
       "      <th></th>\n",
       "      <th>1位</th>\n",
       "      <th>2位</th>\n",
       "      <th>3位</th>\n",
       "      <th>4位</th>\n",
       "      <th>5位</th>\n",
       "      <th>6位</th>\n",
       "      <th>7位</th>\n",
       "      <th>8位</th>\n",
       "      <th>9位</th>\n",
       "      <th>10位</th>\n",
       "    </tr>\n",
       "  </thead>\n",
       "  <tbody>\n",
       "    <tr>\n",
       "      <th>b</th>\n",
       "      <td>activision</td>\n",
       "      <td>aereo</td>\n",
       "      <td>ebola</td>\n",
       "      <td>twitch</td>\n",
       "      <td>cap</td>\n",
       "      <td>she</td>\n",
       "      <td>heartbleed</td>\n",
       "      <td>gay</td>\n",
       "      <td>subscription</td>\n",
       "      <td>nintendo</td>\n",
       "    </tr>\n",
       "    <tr>\n",
       "      <th>e</th>\n",
       "      <td>google</td>\n",
       "      <td>gm</td>\n",
       "      <td>china</td>\n",
       "      <td>microsoft</td>\n",
       "      <td>billion</td>\n",
       "      <td>facebook</td>\n",
       "      <td>risk</td>\n",
       "      <td>climate</td>\n",
       "      <td>study</td>\n",
       "      <td>obamacare</td>\n",
       "    </tr>\n",
       "    <tr>\n",
       "      <th>t</th>\n",
       "      <td>gm</td>\n",
       "      <td>google</td>\n",
       "      <td>dimon</td>\n",
       "      <td>facebook</td>\n",
       "      <td>apple</td>\n",
       "      <td>climate</td>\n",
       "      <td>ceo</td>\n",
       "      <td>twitter</td>\n",
       "      <td>bank</td>\n",
       "      <td>netflix</td>\n",
       "    </tr>\n",
       "    <tr>\n",
       "      <th>m</th>\n",
       "      <td>stocks</td>\n",
       "      <td>percent</td>\n",
       "      <td>move</td>\n",
       "      <td>fed</td>\n",
       "      <td>american</td>\n",
       "      <td>men</td>\n",
       "      <td>grows</td>\n",
       "      <td>valued</td>\n",
       "      <td>thrones</td>\n",
       "      <td>being</td>\n",
       "    </tr>\n",
       "  </tbody>\n",
       "</table>\n",
       "</div>"
      ],
      "text/plain": [
       "           1位       2位     3位         4位        5位        6位          7位  \\\n",
       "b  activision    aereo  ebola     twitch       cap       she  heartbleed   \n",
       "e      google       gm  china  microsoft   billion  facebook        risk   \n",
       "t          gm   google  dimon   facebook     apple   climate         ceo   \n",
       "m      stocks  percent   move        fed  american       men       grows   \n",
       "\n",
       "        8位            9位        10位  \n",
       "b      gay  subscription   nintendo  \n",
       "e  climate         study  obamacare  \n",
       "t  twitter          bank    netflix  \n",
       "m   valued       thrones      being  "
      ]
     },
     "execution_count": 15,
     "metadata": {},
     "output_type": "execute_result"
    }
   ],
   "source": [
    "worst = []\n",
    "for i in range(len(category)):\n",
    "    lst = sorted(list(zip(lr.coef_[i], txt_vec.get_feature_names_out())))\n",
    "    worst.append([lst[:10][j][1] for j in range(10)])\n",
    "pd.DataFrame(worst, index=category, columns=ranking)"
   ]
  },
  {
   "cell_type": "markdown",
   "id": "1548743d",
   "metadata": {},
   "source": [
    "## 58. 正則化パラメータの変更\n",
    "\n",
    "ロジスティック回帰モデルを学習するとき，正則化パラメータを調整することで，学習時の過学習（overfitting）の度合いを制御できる．異なる正則化パラメータでロジスティック回帰モデルを学習し，学習データ，検証データ，および評価データ上の正解率を求めよ．実験の結果は，正則化パラメータを横軸，正解率を縦軸としたグラフにまとめよ．"
   ]
  },
  {
   "cell_type": "code",
   "execution_count": 16,
   "id": "261f62fe",
   "metadata": {},
   "outputs": [],
   "source": [
    "import matplotlib.pyplot as plt"
   ]
  },
  {
   "cell_type": "code",
   "execution_count": 17,
   "id": "81a229e3",
   "metadata": {},
   "outputs": [],
   "source": [
    "def buildModel_and_calcScore(param, feature_data, original_data, solver=\"lbfgs\"):\n",
    "    lr = LogisticRegression(random_state=42, max_iter=20000, C=param, solver=solver) \n",
    "    lr.fit(train_feature, train[\"CATEGORY\"])\n",
    "    pred, probs = predictor(lr, feature_data)\n",
    "    return calc_accu(original_data, pred)"
   ]
  },
  {
   "cell_type": "code",
   "execution_count": 18,
   "id": "a65bd531",
   "metadata": {
    "scrolled": true
   },
   "outputs": [
    {
     "data": {
      "image/png": "[encoded data removed]",
      "text/plain": [
       "<Figure size 432x288 with 1 Axes>"
      ]
     },
     "metadata": {
      "needs_background": "light"
     },
     "output_type": "display_data"
    }
   ],
   "source": [
    "feature = [train_feature, test_feature, valid_feature]\n",
    "original = [train[\"CATEGORY\"], test[\"CATEGORY\"], valid[\"CATEGORY\"]]\n",
    "\n",
    "params = np.logspace(-5, 4, 10, base=10)\n",
    "accu_list = []\n",
    "\n",
    "for i in range(3):\n",
    "    accu_list.append([buildModel_and_calcScore(p, feature[i], original[i]) for p in params])\n",
    "    plt.plot(params, accu_list[i], label=kind[i])\n",
    "\n",
    "plt.xscale(\"log\")\n",
    "plt.ylabel(\"Accuracy\")\n",
    "plt.xlabel(\"Paramater\")\n",
    "plt.legend()\n",
    "plt.show()"
   ]
  },
  {
   "cell_type": "markdown",
   "id": "ac490ad6",
   "metadata": {},
   "source": [
    "## 59. ハイパーパラメータの探索\n",
    "\n",
    "学習アルゴリズムや学習パラメータを変えながら，カテゴリ分類モデルを学習せよ．検証データ上の正解率が最も高くなる学習アルゴリズム・パラメータを求めよ．また，その学習アルゴリズム・パラメータを用いたときの評価データ上の正解率を求めよ．"
   ]
  },
  {
   "cell_type": "code",
   "execution_count": 19,
   "id": "36604706",
   "metadata": {},
   "outputs": [],
   "source": [
    "def for_allkind_buildModel_and_calcScore(param, solver=\"lbfgs\"):\n",
    "    score = []\n",
    "    \n",
    "    for i in range(3):\n",
    "        score.append(buildModel_and_calcScore(param, feature[i], original[i]))\n",
    "    \n",
    "    return score"
   ]
  },
  {
   "cell_type": "code",
   "execution_count": 20,
   "id": "a9c7e175",
   "metadata": {},
   "outputs": [
    {
     "name": "stdout",
     "output_type": "stream",
     "text": [
      "solver :  newton-cg\n",
      "parameter :  100.0\n",
      "accuracy :  0.9124251497005988\n"
     ]
    }
   ],
   "source": [
    "solver = [\"newton-cg\", \"lbfgs\", \"liblinear\", \"sag\", \"saga\"]\n",
    "max_valid_acc = 0\n",
    "\n",
    "for s in solver:\n",
    "    accu_list = []\n",
    "    for p in params:\n",
    "        tmp = for_allkind_buildModel_and_calcScore(p, s)\n",
    "        if max_valid_acc < tmp[2]:\n",
    "            max_valid_acc = tmp[2]\n",
    "            max_solver = s\n",
    "            max_param = p\n",
    "\n",
    "print(\"solver : \", max_solver)\n",
    "print(\"parameter : \", max_param)\n",
    "print(\"accuracy : \", max_valid_acc)"
   ]
  }
 ],
 "metadata": {
  "kernelspec": {
   "display_name": "Python 3 (ipykernel)",
   "language": "python",
   "name": "python3"
  },
  "language_info": {
   "codemirror_mode": {
    "name": "ipython",
    "version": 3
   },
   "file_extension": ".py",
   "mimetype": "text/x-python",
   "name": "python",
   "nbconvert_exporter": "python",
   "pygments_lexer": "ipython3",
   "version": "3.9.12"
  }
 },
 "nbformat": 4,
 "nbformat_minor": 5
}

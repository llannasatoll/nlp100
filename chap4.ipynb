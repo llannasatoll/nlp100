{
 "cells": [
  {
   "cell_type": "markdown",
   "id": "13417bd1",
   "metadata": {},
   "source": [
    "# 第4章: 形態素解析"
   ]
  },
  {
   "cell_type": "markdown",
   "id": "671d76b6",
   "metadata": {},
   "source": [
    "夏目漱石の小説『吾輩は猫である』の文章（[neko.txt](https://nlp100.github.io/data/neko.txt)）をMeCabを使って形態素解析し，その結果をneko.txt.mecabというファイルに保存せよ．このファイルを用いて，以下の問に対応するプログラムを実装せよ．\n",
    "\n",
    "なお，問題37, 38, 39はmatplotlibもしくはGnuplotを用いるとよい．"
   ]
  },
  {
   "cell_type": "markdown",
   "id": "db483d62",
   "metadata": {},
   "source": [
    "ターミナルで以下を実行\n",
    "\n",
    "`brew install mecab`\n",
    "\n",
    "`brew install mecab-ipadic`\n",
    "\n",
    "`mecab < nlp100knockings2022/neko.txt > nlp100knockings2022/neko.txt.mecab`"
   ]
  },
  {
   "cell_type": "markdown",
   "id": "715d6e84",
   "metadata": {},
   "source": [
    "## 30. 形態素解析結果の読み込み\n",
    "\n",
    "形態素解析結果（neko.txt.mecab）を読み込むプログラムを実装せよ．ただし，各形態素は表層形（surface），基本形（base），品詞（pos），品詞細分類1（pos1）をキーとするマッピング型に格納し，1文を形態素（マッピング型）のリストとして表現せよ．第4章の残りの問題では，ここで作ったプログラムを活用せよ．"
   ]
  },
  {
   "cell_type": "code",
   "execution_count": 1,
   "id": "37854778",
   "metadata": {},
   "outputs": [],
   "source": [
    "#MeCabの公式ページによると、出力フォーマットは以下のようになるとあったので、これを参考にした。\n",
    "#表層形\\t品詞,品詞細分類1,品詞細分類2,品詞細分類3,活用型,活用形,原形,読み,発音\n",
    "\n",
    "lst = []\n",
    "with open(\"neko.txt.mecab\") as f:\n",
    "    text = f.read().split('\\n')\n",
    "    \n",
    "for line in text:\n",
    "    if line != \"EOS\" and line != \"\":\n",
    "        tmp = line.split(\"\\t\")\n",
    "        if tmp[0] != \"\":\n",
    "            morpheme = tmp[1].split(\",\")\n",
    "            lst.append({\"surface\":tmp[0], \"base\":morpheme[6], \"pos\":morpheme[0], \"pos1\":morpheme[1]})"
   ]
  },
  {
   "cell_type": "markdown",
   "id": "6671e381",
   "metadata": {},
   "source": [
    "## 31. 動詞\n",
    "動詞の表層形をすべて抽出せよ"
   ]
  },
  {
   "cell_type": "code",
   "execution_count": 2,
   "id": "765efa3a",
   "metadata": {},
   "outputs": [
    {
     "name": "stdout",
     "output_type": "stream",
     "text": [
      "答え, 食わせれ, おっしゃろ, 通そ, きら, 振っ, いろ, 表わし, 振り返る, 酔っ払っ\n"
     ]
    }
   ],
   "source": [
    "ans = list(set(line[\"surface\"] for line in lst if line[\"pos\"] == \"動詞\"))\n",
    "print(\", \".join(ans[:10]))"
   ]
  },
  {
   "cell_type": "markdown",
   "id": "d0f33964",
   "metadata": {},
   "source": [
    "## 32. 動詞の基本形\n",
    "\n",
    "動詞の基本形をすべて抽出せよ．"
   ]
  },
  {
   "cell_type": "code",
   "execution_count": 3,
   "id": "ed47c53f",
   "metadata": {},
   "outputs": [
    {
     "name": "stdout",
     "output_type": "stream",
     "text": [
      "振り返る, もらう, 待つ, 汚す, 浴びせる, 訪う, あばく, 打殺す, 溶かす, 清める\n"
     ]
    }
   ],
   "source": [
    "ans = list(set(line[\"base\"] for line in lst if line[\"pos\"] == \"動詞\"))\n",
    "print(\", \".join(ans[:10]))"
   ]
  },
  {
   "cell_type": "markdown",
   "id": "439a3f7a",
   "metadata": {},
   "source": [
    "## 33. 「AのB」\n",
    "\n",
    "2つの名詞が「の」で連結されている名詞句を抽出せよ．"
   ]
  },
  {
   "cell_type": "code",
   "execution_count": 4,
   "id": "e10f2989",
   "metadata": {},
   "outputs": [
    {
     "name": "stdout",
     "output_type": "stream",
     "text": [
      "飯櫃の上, 子の声, 金剛不壊のからだ, 時機の一, 大抵の釘, 本堂の裏手, 作中の人物, んの泣き声, 本の尾, 尻の中\n"
     ]
    }
   ],
   "source": [
    "ans = set()\n",
    "for i in range(len(lst)):\n",
    "    if lst[i-1][\"pos\"] == \"名詞\" and lst[i][\"surface\"] == \"の\" and \\\n",
    "    lst[i+1][\"pos\"] == \"名詞\":\n",
    "        ans.add(lst[i-1][\"surface\"] + lst[i][\"surface\"] + lst[i+1][\"surface\"])\n",
    "print(\", \".join(list(ans)[:10]))"
   ]
  },
  {
   "cell_type": "markdown",
   "id": "aa5d35f7",
   "metadata": {},
   "source": [
    "## 34. 名詞の連接\n",
    "名詞の連接（連続して出現する名詞）を最長一致で抽出せよ"
   ]
  },
  {
   "cell_type": "code",
   "execution_count": 5,
   "id": "4d7e65b2",
   "metadata": {},
   "outputs": [
    {
     "name": "stdout",
     "output_type": "stream",
     "text": [
      "男一人, 三方面共, 野猪的本領, 二行, 滑稽文, 寒月君自身, 二足, 代り十文半, いつか参上, 彼等人類\n"
     ]
    }
   ],
   "source": [
    "ans = set()\n",
    "tmp = []\n",
    "before = False\n",
    "\n",
    "for line in lst:\n",
    "    if line[\"pos\"] == \"名詞\":\n",
    "        before = True\n",
    "        tmp.append(line[\"surface\"])\n",
    "    elif before:\n",
    "        if len(tmp) > 1:\n",
    "            ans.add(\"\".join(tmp))\n",
    "        tmp = []\n",
    "        before = False\n",
    "    \n",
    "print(\", \".join(list(ans)[:10]))"
   ]
  },
  {
   "cell_type": "markdown",
   "id": "1b692bad",
   "metadata": {},
   "source": [
    "##  35. 単語の出現頻度\n",
    "文章中に出現する単語とその出現頻度を求め，出現頻度の高い順に並べよ．"
   ]
  },
  {
   "cell_type": "code",
   "execution_count": 6,
   "id": "4bcefb02",
   "metadata": {},
   "outputs": [
    {
     "name": "stdout",
     "output_type": "stream",
     "text": [
      "[('の', 9194), ('て', 6868), ('は', 6420), ('に', 6243), ('を', 6071), ('と', 5508), ('が', 5337), ('た', 3988), ('で', 3806), ('も', 2479)]\n"
     ]
    }
   ],
   "source": [
    "import collections\n",
    "\n",
    "c = collections.Counter([line[\"surface\"] for line in lst if line[\"pos\"] != \"記号\"])\n",
    "print(c.most_common(10))"
   ]
  },
  {
   "cell_type": "markdown",
   "id": "e7260010",
   "metadata": {},
   "source": [
    "##  36. 頻度上位10語\n",
    "出現頻度が高い10語とその出現頻度をグラフ（例えば棒グラフなど）で表示せよ．"
   ]
  },
  {
   "cell_type": "code",
   "execution_count": 7,
   "id": "97db7641",
   "metadata": {},
   "outputs": [
    {
     "data": {
      "image/png": "[encoded data removed]",
      "text/plain": [
       "<Figure size 432x288 with 1 Axes>"
      ]
     },
     "metadata": {
      "needs_background": "light"
     },
     "output_type": "display_data"
    }
   ],
   "source": [
    "import matplotlib.pyplot as plt\n",
    "import japanize_matplotlib\n",
    "\n",
    "target = list(zip(*c.most_common(10)))\n",
    "plt.bar(*target)\n",
    "plt.show()"
   ]
  },
  {
   "cell_type": "markdown",
   "id": "c579f126",
   "metadata": {},
   "source": [
    "##  37. 「猫」と共起頻度の高い上位10語\n",
    "\n",
    "「猫」とよく共起する（共起頻度が高い）10語とその出現頻度をグラフ（例えば棒グラフなど）で表示せよ．"
   ]
  },
  {
   "cell_type": "code",
   "execution_count": 8,
   "id": "be59e595",
   "metadata": {},
   "outputs": [
    {
     "data": {
      "image/png": "[encoded data removed]",
      "text/plain": [
       "<Figure size 432x288 with 1 Axes>"
      ]
     },
     "metadata": {
      "needs_background": "light"
     },
     "output_type": "display_data"
    }
   ],
   "source": [
    "#共起回数　＝　「猫」が同じ文に現れる回数\n",
    "\n",
    "tmp_cooccurrence = []\n",
    "cooccurrence = []\n",
    "isinCat = False\n",
    "\n",
    "for line in lst:\n",
    "    if line[\"surface\"] == \"。\":\n",
    "        if isinCat:\n",
    "            cooccurrence.extend(tmp)\n",
    "        tmp = []\n",
    "        inCat = False\n",
    "    else:\n",
    "        if line[\"surface\"] == \"猫\":\n",
    "            isinCat = True\n",
    "        elif line[\"pos\"] != \"記号\":\n",
    "            tmp.append(line[\"surface\"])\n",
    "\n",
    "c = collections.Counter(cooccurrence)\n",
    "target = list(zip(*c.most_common(10)))\n",
    "plt.bar(*target)\n",
    "plt.show()"
   ]
  },
  {
   "cell_type": "markdown",
   "id": "1becc135",
   "metadata": {},
   "source": [
    "## 38. ヒストグラム\n",
    "単語の出現頻度のヒストグラムを描け．ただし，横軸は出現頻度を表し，1から単語の出現頻度の最大値までの線形目盛とする．縦軸はx軸で示される出現頻度となった単語の異なり数（種類数）である．"
   ]
  },
  {
   "cell_type": "code",
   "execution_count": 9,
   "id": "9732f337",
   "metadata": {},
   "outputs": [
    {
     "data": {
      "image/png": "[encoded data removed]",
      "text/plain": [
       "<Figure size 576x288 with 1 Axes>"
      ]
     },
     "metadata": {
      "needs_background": "light"
     },
     "output_type": "display_data"
    }
   ],
   "source": [
    "c = collections.Counter([line[\"surface\"] for line in lst])\n",
    "plt.figure(figsize=(8, 4))\n",
    "plt.hist(c.values(), bins=100)\n",
    "plt.show()"
   ]
  },
  {
   "cell_type": "markdown",
   "id": "d5bddf06",
   "metadata": {},
   "source": [
    "##  39. Zipfの法則\n",
    "\n",
    "単語の出現頻度順位を横軸，その出現頻度を縦軸として，両対数グラフをプロットせよ．"
   ]
  },
  {
   "cell_type": "code",
   "execution_count": 10,
   "id": "e655446e",
   "metadata": {},
   "outputs": [
    {
     "data": {
      "image/png": "[encoded data removed]",
      "text/plain": [
       "<Figure size 576x288 with 1 Axes>"
      ]
     },
     "metadata": {
      "needs_background": "light"
     },
     "output_type": "display_data"
    }
   ],
   "source": [
    "plt.figure(figsize=(8, 4))\n",
    "plt.scatter(list(range(len(c))), [count for _, count in c.most_common()])\n",
    "plt.xscale('log')\n",
    "plt.yscale('log')"
   ]
  }
 ],
 "metadata": {
  "kernelspec": {
   "display_name": "Python 3 (ipykernel)",
   "language": "python",
   "name": "python3"
  },
  "language_info": {
   "codemirror_mode": {
    "name": "ipython",
    "version": 3
   },
   "file_extension": ".py",
   "mimetype": "text/x-python",
   "name": "python",
   "nbconvert_exporter": "python",
   "pygments_lexer": "ipython3",
   "version": "3.9.12"
  }
 },
 "nbformat": 4,
 "nbformat_minor": 5
}
